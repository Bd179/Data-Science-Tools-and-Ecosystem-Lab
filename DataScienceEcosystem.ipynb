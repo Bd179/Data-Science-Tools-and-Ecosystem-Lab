{
 "cells": [
  {
   "cell_type": "markdown",
   "id": "4172a5ee-f29c-4fc0-8984-f4d8ac146de9",
   "metadata": {},
   "source": [
    "<center>\n",
    "    <img src=\"https://cf-courses-data.s3.us.cloud-object-storage.appdomain.cloud/IBMDeveloperSkillsNetwork-DS0105EN-SkillsNetwork/labs/Module2/images/SN_web_lightmode.png\" width=\"300\" alt=\"cognitiveclass.ai logo\">\n",
    "</center>\n"
   ]
  },
  {
   "cell_type": "markdown",
   "id": "89977a19-6b64-4e4b-98a9-4ba408c78ba4",
   "metadata": {},
   "source": [
    "# Data Science Tools and Ecosystem"
   ]
  },
  {
   "cell_type": "markdown",
   "id": "188f66f2-bb1d-4632-957b-eb4eeed6bc28",
   "metadata": {},
   "source": [
    "## In this notebook, Data Science Tools and Ecosystem are summarized."
   ]
  },
  {
   "cell_type": "markdown",
   "id": "07a97588-5a55-4064-ab49-442f9f3be4b2",
   "metadata": {},
   "source": [
    "## **Objectives:**\n",
    " * Learn commonly known languages used by Data Scientists\n",
    " * Learn commonly known libraries used by Data Scientists\n",
    " * Learn commonly used Data Science tools\n",
    " * How to evaluate arithmetic expressions\n",
    " * How to convert minutes to hours"
   ]
  },
  {
   "cell_type": "markdown",
   "id": "2d550d9d-2cac-4c69-85be-dbe78cd54340",
   "metadata": {},
   "source": [
    "## Some of the popular languages that Data Scientists use are:\n",
    "\n",
    "### 1. Python\n",
    "### 2. R\n",
    "### 3. SQL"
   ]
  },
  {
   "cell_type": "markdown",
   "id": "99eb72c6-5d00-4dbe-b378-a03f5e524868",
   "metadata": {},
   "source": [
    "## Some of the commonly used libraries used by Data Scientists include:\n",
    "\n",
    "### 1. Pandas\n",
    "### 2. NumPy\n",
    "### 3. Matplotlib\n",
    "### 4. ggplot2\n",
    "### 5. Scikit-learn\n",
    "### 6. TensorFlow\n",
    "### 7. Keras\n",
    "### 8. caret"
   ]
  },
  {
   "cell_type": "markdown",
   "id": "e20ec0dc-629a-403c-ad34-2ee24989df1c",
   "metadata": {},
   "source": [
    "| Data Science Tools |\n",
    "| ------------------ |\n",
    "| Jupyter Notebook |\n",
    "| RStudio          |\n",
    "| Apache Zeppelin  |"
   ]
  },
  {
   "cell_type": "markdown",
   "id": "af6e0875-2246-41ab-abf6-2cf617f6adfc",
   "metadata": {
    "tags": []
   },
   "source": [
    "### Below are a few examples fo evaluating arithmetic expressions in Python:"
   ]
  },
  {
   "cell_type": "code",
   "execution_count": 15,
   "id": "d75abe31-ad93-4356-b403-62b2ff6007bc",
   "metadata": {
    "tags": []
   },
   "outputs": [
    {
     "data": {
      "text/plain": [
       "17"
      ]
     },
     "execution_count": 15,
     "metadata": {},
     "output_type": "execute_result"
    }
   ],
   "source": [
    "# This is a simple arithmetic expression to multiply then add integers\n",
    "(3*4)+5"
   ]
  },
  {
   "cell_type": "code",
   "execution_count": 17,
   "id": "b343c9d8-50ff-4e18-8be7-17ec0f939225",
   "metadata": {
    "tags": []
   },
   "outputs": [
    {
     "data": {
      "text/plain": [
       "3.3333333333333335"
      ]
     },
     "execution_count": 17,
     "metadata": {},
     "output_type": "execute_result"
    }
   ],
   "source": [
    "# This will convert 200 minutes to hours by dividing by 60\n",
    "\n",
    "200/60"
   ]
  },
  {
   "cell_type": "markdown",
   "id": "b8292264-4348-4683-9d89-54617b0c97c0",
   "metadata": {},
   "source": [
    "## Author\n",
    "Benjamin Dillon"
   ]
  },
  {
   "cell_type": "code",
   "execution_count": null,
   "id": "edae74fb-9583-42b5-ba17-6c6842e4290c",
   "metadata": {},
   "outputs": [],
   "source": []
  }
 ],
 "metadata": {
  "kernelspec": {
   "display_name": "Python 3 (ipykernel)",
   "language": "python",
   "name": "python3"
  },
  "language_info": {
   "codemirror_mode": {
    "name": "ipython",
    "version": 3
   },
   "file_extension": ".py",
   "mimetype": "text/x-python",
   "name": "python",
   "nbconvert_exporter": "python",
   "pygments_lexer": "ipython3",
   "version": "3.11.5"
  }
 },
 "nbformat": 4,
 "nbformat_minor": 5
}
